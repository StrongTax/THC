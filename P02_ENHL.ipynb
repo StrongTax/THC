{
  "cells": [
    {
      "cell_type": "markdown",
      "metadata": {
        "id": "4YFCJ50GtBuS"
      },
      "source": [
        "# Taller de herramientas computacionales\n",
        "## Semestre 2023-1\n",
        "### Práctica 2\n",
        "\n",
        "Autor: Ernesto Nicolas Hernandez Lopez\n",
        "\n",
        "Fecha de entrega: 14 de octubre de 2022"
      ]
    },
    {
      "cell_type": "markdown",
      "metadata": {
        "id": "_lgD0jY-tBuW"
      },
      "source": [
        "### Modules"
      ]
    },
    {
      "cell_type": "code",
      "execution_count": null,
      "metadata": {
        "id": "RrIUt-5RtBuX"
      },
      "outputs": [],
      "source": [
        "import numpy as np\n"
      ]
    },
    {
      "cell_type": "markdown",
      "metadata": {
        "id": "f46-8pPDtBuZ"
      },
      "source": [
        "***E0***. Defina las variables $a$, $b$, $c$ y $d$ como: $a = 12$, $b = 5.6$, $c = \\dfrac{3a}{b^2}$, y $d = \\dfrac{(a-b)^{c}}{c}$, evalúe la siguiente expresión y muestre el resultado\n",
        "$$\n",
        "    \\exp\\left(\\dfrac{d-c}{a-2b}\\right) + \\ln\\left(\\left|c-d+\\dfrac{b}{a}\\right|\\right)\n",
        "$$\n",
        "\n",
        "**Solución**: Aquí solo hay que tener cuidado en la asignación de los valores a las variables y usar la función ```np.abs()``` para calcular el valor absoluto."
      ]
    },
    {
      "cell_type": "code",
      "execution_count": null,
      "metadata": {
        "id": "wzPj20LltBuZ"
      },
      "outputs": [],
      "source": [
        "a,b = 12,5.6\n",
        "c = 3*a/b**2\n",
        "d = (a-b)**c/c\n",
        "print(f\"El resultado es: {np.exp((d-c)/(a-2*b)) + np.log(np.abs(c - d + b/a)):2.4f}\")"
      ]
    },
    {
      "cell_type": "markdown",
      "metadata": {
        "id": "YkURTNnGtBua"
      },
      "source": [
        "***E1***."
      ]
    },
    {
      "cell_type": "code",
      "execution_count": null,
      "metadata": {
        "id": "EGdXs69atBuc"
      },
      "outputs": [],
      "source": []
    }
  ],
  "metadata": {
    "colab": {
      "provenance": [],
      "collapsed_sections": []
    },
    "kernelspec": {
      "display_name": "Python 3 (ipykernel)",
      "language": "python",
      "name": "python3"
    },
    "language_info": {
      "codemirror_mode": {
        "name": "ipython",
        "version": 3
      },
      "file_extension": ".py",
      "mimetype": "text/x-python",
      "name": "python",
      "nbconvert_exporter": "python",
      "pygments_lexer": "ipython3",
      "version": "3.8.13"
    }
  },
  "nbformat": 4,
  "nbformat_minor": 0
}